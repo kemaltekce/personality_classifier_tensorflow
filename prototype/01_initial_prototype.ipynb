{
 "cells": [
  {
   "cell_type": "code",
   "execution_count": 1,
   "metadata": {},
   "outputs": [],
   "source": [
    "%load_ext autoreload\n",
    "%autoreload 2\n",
    "import sys\n",
    "sys.path.insert(0, '../')"
   ]
  },
  {
   "cell_type": "code",
   "execution_count": 2,
   "metadata": {},
   "outputs": [],
   "source": [
    "import numpy as np\n",
    "\n",
    "import tensorflow as tf\n",
    "from tensorflow.keras.preprocessing.text import Tokenizer\n",
    "from tensorflow.keras.preprocessing.sequence import pad_sequences"
   ]
  },
  {
   "cell_type": "code",
   "execution_count": 3,
   "metadata": {},
   "outputs": [],
   "source": [
    "from personflow.loader import PersonalityPostLoader\n",
    "from personflow.preparator import PersonContainer, TrainTestSplitter"
   ]
  },
  {
   "cell_type": "code",
   "execution_count": 4,
   "metadata": {},
   "outputs": [
    {
     "name": "stdout",
     "output_type": "stream",
     "text": [
      "Ignored 2339 texts because of too small chunks\n"
     ]
    }
   ],
   "source": [
    "loader = PersonalityPostLoader()\n",
    "persons = loader.run()\n",
    "\n",
    "container = PersonContainer(persons)\n",
    "container.split_posts(10)\n",
    "container.replace_personality_codes()\n",
    "container.replace_links()\n",
    "container.replace_digits()\n",
    "container.evenly_distribute()\n",
    "container.post_joiner()"
   ]
  },
  {
   "cell_type": "code",
   "execution_count": 5,
   "metadata": {},
   "outputs": [
    {
     "name": "stdout",
     "output_type": "stream",
     "text": [
      "Train size: Counter({'Introvert': 13574, 'Extrovert': 13573})\n",
      "Test size: Counter({'Extrovert': 5818, 'Introvert': 5817})\n"
     ]
    }
   ],
   "source": [
    "ttsplitter = TrainTestSplitter(container)\n",
    "train_x, train_y, test_x, test_y = ttsplitter.run()"
   ]
  },
  {
   "cell_type": "code",
   "execution_count": 6,
   "metadata": {},
   "outputs": [
    {
     "data": {
      "text/plain": [
       "'doll i love all the movies you listed, and this makes me think about why your tritype is one of my faves. the healing ability often attributed to the $digit might somehow benefit the $digit   there... abuse/abandonment can cause $digit it basically freezes us emotionally. thus the black and white simplicity, the overwhelming emotions and the controlling tendencies, it´s all symptoms of deeper... swordsman of mana i know it´s been a million years since this thread got started, but if you´re still interested, could you tell me what you think about the $digit tritype? i love reading your comments... hi guys!  fionn whitehead stars in nolan´s dunkirk as the lead. he´s a newcomer and not too well media trained, so his reactions seem pretty genuine and i think i got his type just from watching... enneagram stacking might play a bigger role than the type itself at times, like during the first-impression phase writers go to when introducing someone new.  i´d look into the sp/sx forum for...'"
      ]
     },
     "execution_count": 6,
     "metadata": {},
     "output_type": "execute_result"
    }
   ],
   "source": [
    "train_x[1]"
   ]
  },
  {
   "cell_type": "code",
   "execution_count": 7,
   "metadata": {},
   "outputs": [
    {
     "name": "stdout",
     "output_type": "stream",
     "text": [
      "Training data contains 60797 different words.\n"
     ]
    }
   ],
   "source": [
    "tokenizer = Tokenizer(oov_token='$oov')\n",
    "tokenizer.fit_on_texts(train_x)\n",
    "word_index = tokenizer.word_index\n",
    "\n",
    "print(f\"Training data contains {len(word_index)} different words.\")"
   ]
  },
  {
   "cell_type": "code",
   "execution_count": 8,
   "metadata": {},
   "outputs": [],
   "source": [
    "import attr\n",
    "\n",
    "@attr.s\n",
    "class Sequencer:\n",
    "    \n",
    "    num_tokens = attr.ib()\n",
    "    seq_len = attr.ib()\n",
    "    oov = attr.ib(default='$oov')\n",
    "    pad_type = attr.ib(default='post')\n",
    "    trunc_type = attr.ib(default='post')\n",
    "        \n",
    "    def fit(self, X):    \n",
    "        self.tokenizer = Tokenizer(num_words=self.num_tokens, oov_token=self.oov)\n",
    "        self.tokenizer.fit_on_texts(X)\n",
    "        self.word_index = self.tokenizer.word_index\n",
    "    \n",
    "    def transform(self, X):\n",
    "        X_seq = self.tokenizer.texts_to_sequences(X)\n",
    "        X_seq_pad = pad_sequences(\n",
    "            X_seq, maxlen=self.seq_len, padding=self.pad_type, truncating=self.trunc_type)\n",
    "        return X_seq_pad\n",
    "    \n",
    "    def fit_transform(self, X):\n",
    "        self.fit(X)\n",
    "        X_seq_pad = self.transform(X)\n",
    "        return X_seq_pad"
   ]
  },
  {
   "cell_type": "code",
   "execution_count": 9,
   "metadata": {},
   "outputs": [],
   "source": [
    "vocab_size = 40000\n",
    "seq_len = 400"
   ]
  },
  {
   "cell_type": "code",
   "execution_count": 10,
   "metadata": {},
   "outputs": [],
   "source": [
    "seq = Sequencer(num_tokens=vocab_size, seq_len=seq_len)\n",
    "train_x_sp = seq.fit_transform(train_x)\n",
    "test_x_sp = seq.transform(test_x)"
   ]
  },
  {
   "cell_type": "code",
   "execution_count": 11,
   "metadata": {},
   "outputs": [
    {
     "name": "stdout",
     "output_type": "stream",
     "text": [
      "['Introvert' 'Extrovert' 'Introvert' 'Extrovert' 'Extrovert']\n",
      "[1 0 1 0 0]\n"
     ]
    }
   ],
   "source": [
    "training_padded = np.array(train_x_sp)\n",
    "training_labels = np.array(train_y)\n",
    "print(training_labels[:5])\n",
    "_, training_labels = np.unique(training_labels, return_inverse=True)\n",
    "print(training_labels[:5])\n",
    "\n",
    "testing_padded = np.array(test_x_sp)\n",
    "testing_labels = np.array(test_y)\n",
    "_, testing_labels = np.unique(testing_labels, return_inverse=True)"
   ]
  },
  {
   "cell_type": "code",
   "execution_count": 12,
   "metadata": {},
   "outputs": [],
   "source": [
    "embedding_dim = 16\n",
    "epochs = 30"
   ]
  },
  {
   "cell_type": "code",
   "execution_count": 13,
   "metadata": {},
   "outputs": [
    {
     "name": "stdout",
     "output_type": "stream",
     "text": [
      "Model: \"sequential\"\n",
      "_________________________________________________________________\n",
      "Layer (type)                 Output Shape              Param #   \n",
      "=================================================================\n",
      "embedding (Embedding)        (None, 100, 16)           640000    \n",
      "_________________________________________________________________\n",
      "global_average_pooling1d (Gl (None, 16)                0         \n",
      "_________________________________________________________________\n",
      "dense (Dense)                (None, 24)                408       \n",
      "_________________________________________________________________\n",
      "dense_1 (Dense)              (None, 1)                 25        \n",
      "=================================================================\n",
      "Total params: 640,433\n",
      "Trainable params: 640,433\n",
      "Non-trainable params: 0\n",
      "_________________________________________________________________\n"
     ]
    }
   ],
   "source": [
    "model = tf.keras.Sequential([\n",
    "    tf.keras.layers.Embedding(vocab_size, embedding_dim, input_length=seq_len),\n",
    "    tf.keras.layers.GlobalAveragePooling1D(),\n",
    "    tf.keras.layers.Dense(24, activation='relu'),\n",
    "    tf.keras.layers.Dense(1, activation='sigmoid')\n",
    "])\n",
    "model.compile(loss='binary_crossentropy',optimizer='adam',metrics=['accuracy'])\n",
    "\n",
    "model.summary()"
   ]
  },
  {
   "cell_type": "code",
   "execution_count": 14,
   "metadata": {},
   "outputs": [
    {
     "name": "stdout",
     "output_type": "stream",
     "text": [
      "Epoch 1/30\n",
      "849/849 - 7s - loss: 0.6842 - accuracy: 0.5549 - val_loss: 0.6671 - val_accuracy: 0.5960\n",
      "Epoch 2/30\n",
      "849/849 - 7s - loss: 0.6165 - accuracy: 0.6658 - val_loss: 0.6666 - val_accuracy: 0.6003\n",
      "Epoch 3/30\n",
      "849/849 - 7s - loss: 0.5291 - accuracy: 0.7411 - val_loss: 0.7036 - val_accuracy: 0.6003\n",
      "Epoch 4/30\n",
      "849/849 - 7s - loss: 0.4504 - accuracy: 0.7904 - val_loss: 0.7700 - val_accuracy: 0.5863\n",
      "Epoch 5/30\n",
      "849/849 - 7s - loss: 0.3847 - accuracy: 0.8293 - val_loss: 0.8633 - val_accuracy: 0.5791\n",
      "Epoch 6/30\n",
      "849/849 - 7s - loss: 0.3286 - accuracy: 0.8594 - val_loss: 0.9457 - val_accuracy: 0.5795\n",
      "Epoch 7/30\n",
      "849/849 - 8s - loss: 0.2819 - accuracy: 0.8847 - val_loss: 1.0533 - val_accuracy: 0.5753\n",
      "Epoch 8/30\n",
      "849/849 - 8s - loss: 0.2464 - accuracy: 0.8993 - val_loss: 1.1752 - val_accuracy: 0.5738\n",
      "Epoch 9/30\n",
      "849/849 - 8s - loss: 0.2128 - accuracy: 0.9176 - val_loss: 1.2931 - val_accuracy: 0.5716\n",
      "Epoch 10/30\n",
      "849/849 - 8s - loss: 0.1844 - accuracy: 0.9298 - val_loss: 1.4170 - val_accuracy: 0.5674\n",
      "Epoch 11/30\n",
      "849/849 - 8s - loss: 0.1616 - accuracy: 0.9404 - val_loss: 1.5439 - val_accuracy: 0.5678\n",
      "Epoch 12/30\n",
      "849/849 - 7s - loss: 0.1406 - accuracy: 0.9468 - val_loss: 1.6739 - val_accuracy: 0.5664\n",
      "Epoch 13/30\n",
      "849/849 - 7s - loss: 0.1216 - accuracy: 0.9547 - val_loss: 1.8350 - val_accuracy: 0.5652\n",
      "Epoch 14/30\n",
      "849/849 - 7s - loss: 0.1050 - accuracy: 0.9627 - val_loss: 1.9796 - val_accuracy: 0.5599\n",
      "Epoch 15/30\n",
      "849/849 - 7s - loss: 0.0927 - accuracy: 0.9674 - val_loss: 2.1088 - val_accuracy: 0.5586\n",
      "Epoch 16/30\n",
      "849/849 - 7s - loss: 0.0810 - accuracy: 0.9712 - val_loss: 2.2773 - val_accuracy: 0.5588\n",
      "Epoch 17/30\n",
      "849/849 - 7s - loss: 0.0710 - accuracy: 0.9758 - val_loss: 2.4231 - val_accuracy: 0.5575\n",
      "Epoch 18/30\n",
      "849/849 - 7s - loss: 0.0617 - accuracy: 0.9791 - val_loss: 2.6026 - val_accuracy: 0.5593\n",
      "Epoch 19/30\n",
      "849/849 - 7s - loss: 0.0542 - accuracy: 0.9815 - val_loss: 2.7873 - val_accuracy: 0.5559\n",
      "Epoch 20/30\n",
      "849/849 - 7s - loss: 0.0506 - accuracy: 0.9832 - val_loss: 2.8881 - val_accuracy: 0.5552\n",
      "Epoch 21/30\n",
      "849/849 - 7s - loss: 0.0440 - accuracy: 0.9853 - val_loss: 3.0156 - val_accuracy: 0.5573\n",
      "Epoch 22/30\n",
      "849/849 - 7s - loss: 0.0375 - accuracy: 0.9875 - val_loss: 3.1703 - val_accuracy: 0.5563\n",
      "Epoch 23/30\n",
      "849/849 - 7s - loss: 0.0352 - accuracy: 0.9878 - val_loss: 3.3581 - val_accuracy: 0.5593\n",
      "Epoch 24/30\n",
      "849/849 - 7s - loss: 0.0352 - accuracy: 0.9884 - val_loss: 3.4903 - val_accuracy: 0.5555\n",
      "Epoch 25/30\n",
      "849/849 - 7s - loss: 0.0296 - accuracy: 0.9900 - val_loss: 3.6083 - val_accuracy: 0.5564\n",
      "Epoch 26/30\n",
      "849/849 - 7s - loss: 0.0239 - accuracy: 0.9924 - val_loss: 3.7516 - val_accuracy: 0.5564\n",
      "Epoch 27/30\n",
      "849/849 - 7s - loss: 0.0253 - accuracy: 0.9909 - val_loss: 3.9468 - val_accuracy: 0.5588\n",
      "Epoch 28/30\n",
      "849/849 - 7s - loss: 0.0262 - accuracy: 0.9904 - val_loss: 4.0495 - val_accuracy: 0.5557\n",
      "Epoch 29/30\n",
      "849/849 - 7s - loss: 0.0223 - accuracy: 0.9926 - val_loss: 4.1358 - val_accuracy: 0.5580\n",
      "Epoch 30/30\n",
      "849/849 - 8s - loss: 0.0208 - accuracy: 0.9930 - val_loss: 4.2526 - val_accuracy: 0.5599\n"
     ]
    }
   ],
   "source": [
    "num_epochs = 30\n",
    "history = model.fit(\n",
    "    training_padded, training_labels, epochs=num_epochs, \n",
    "    validation_data=(testing_padded, testing_labels), verbose=2)"
   ]
  },
  {
   "cell_type": "code",
   "execution_count": 16,
   "metadata": {},
   "outputs": [
    {
     "data": {
      "text/plain": [
       "array([[0.00380972],\n",
       "       [0.21285512]], dtype=float32)"
      ]
     },
     "execution_count": 16,
     "metadata": {},
     "output_type": "execute_result"
    }
   ],
   "source": [
    "sentences = [\n",
    "    'This is so crazy you have to look at this haha. I can not believe it. This is so awesome. Nice lol.',\n",
    "    'Had a nice day at the beach. link.',\n",
    "]\n",
    "\n",
    "sentences = np.array(seq.transform(sentences))\n",
    "model.predict(sentences)"
   ]
  },
  {
   "cell_type": "code",
   "execution_count": null,
   "metadata": {},
   "outputs": [],
   "source": []
  }
 ],
 "metadata": {
  "kernelspec": {
   "display_name": "Python 3",
   "language": "python",
   "name": "python3"
  },
  "language_info": {
   "codemirror_mode": {
    "name": "ipython",
    "version": 3
   },
   "file_extension": ".py",
   "mimetype": "text/x-python",
   "name": "python",
   "nbconvert_exporter": "python",
   "pygments_lexer": "ipython3",
   "version": "3.8.3"
  }
 },
 "nbformat": 4,
 "nbformat_minor": 4
}
